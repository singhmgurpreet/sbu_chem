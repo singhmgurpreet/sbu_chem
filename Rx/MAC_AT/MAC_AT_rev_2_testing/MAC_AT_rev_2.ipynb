{
 "cells": [
  {
   "cell_type": "code",
   "execution_count": 6,
   "metadata": {},
   "outputs": [
    {
     "name": "stdout",
     "output_type": "stream",
     "text": [
      "100 discharge cycles\n",
      "100 charge cycles\n",
      "20.975 seconds\n"
     ]
    },
    {
     "data": {
      "image/png": "[encoded data removed]",
      "text/plain": [
       "<Figure size 432x288 with 1 Axes>"
      ]
     },
     "metadata": {
      "needs_background": "light"
     },
     "output_type": "display_data"
    }
   ],
   "source": [
    "#Code_Dummy: Gurpreet Singh\n",
    "#Test_Dummy: Mallory Vila\n",
    "\n",
    "#MAC_AT_rev_2.0\n",
    "#May_2020_Quarantine_Edition\n",
    "\n",
    "#Pandas and NumPy dependency required; Anaconda highly recommended.\n",
    "#If plot window not required, delete lines 25, 84, and 85. \n",
    "\n",
    "#Approximate speed is 1-2s per 1,000 data points\n",
    "\n",
    "#Save Maccor File as CSV, and FORMAT mAmp-hr COLUMN in SCI.-NOT. WITH AT LEAST\n",
    "    ## 4 DECIMAL PLACES BEFORE SAVING AS CSV. Delete all columns after time \n",
    "    ## column.\n",
    "\n",
    "\n",
    "import pandas as pd\n",
    "import time\n",
    "import matplotlib.pyplot as plt\n",
    "\n",
    "#Notes execution start time\n",
    "t_start = time.time()\n",
    "\n",
    "#Enter active mass in g\n",
    "active_mass = [0.0044]\n",
    "\n",
    "#Data imported as Pandas dataframe. Enter CSV file name.\n",
    "df = pd.read_csv('gs_236_010h.078.csv',skiprows=1)\n",
    "\n",
    "#uncorrected capacity column\n",
    "for index,row in df.iterrows():\n",
    "    df.loc[index,'spec_cap_unc'] = (df.loc[index,'mAmp-hr'])/active_mass\n",
    "\n",
    "#holds charge/discharge cycle number, and index of last charge/discharge cycle that finished.    \n",
    "chr_cycle_no = 0\n",
    "dis_cycle_no = 0\n",
    "prior_idx = 0\n",
    "\n",
    "#corrected capacity columnn\n",
    "#for loop iterating over all rows\n",
    "for index,row in df.iterrows():\n",
    "    #Rest state capacity; only applies if no charge/discharge cycle completed yet.\n",
    "    if df.loc[index, 'State'] == 'R' and dis_cycle_no == 0 and chr_cycle_no == 0:\n",
    "        df.loc[index,'spec_cap_cor'] = (df.loc[index,'mAmp-hr'])/active_mass\n",
    "    #Rest state capacity when either a charge or discharge cycle has been completed.\n",
    "    elif df.loc[index, 'State'] == 'R' and (dis_cycle_no != 0 or chr_cycle_no != 0):\n",
    "        df.loc[index,'spec_cap_cor'] = df.loc[prior_idx,'spec_cap_cor']\n",
    "        prior_idx = index\n",
    "    #Discharge capacity at final step.\n",
    "    elif df.loc[index,'State'] == 'D' and (df.loc[index,'ES'] == 133 or df.loc[index,'ES'] == 129):\n",
    "        df.loc[index,'spec_cap_cor'] = df.loc[prior_idx,'spec_cap_cor']+((df.loc[index,'mAmp-hr'])/active_mass)\n",
    "        dis_cycle_no = dis_cycle_no + 1\n",
    "        prior_idx = index\n",
    "    #Discharge capacity when either a charge or discharge cycle has been completed.\n",
    "    elif df.loc[index,'State'] == 'D' and (dis_cycle_no != 0 or chr_cycle_no != 0):\n",
    "        df.loc[index,'spec_cap_cor'] = df.loc[prior_idx,'spec_cap_cor']+((df.loc[index,'mAmp-hr'])/active_mass)\n",
    "    #Discharge capacity; only used for non-final step of cycle when no charge or discharge has been completed.\n",
    "    elif df.loc[index,'State'] == 'D':\n",
    "        df.loc[index,'spec_cap_cor'] = (df.loc[index,'mAmp-hr'])/active_mass\n",
    "    #Charge capacity at final step.\n",
    "    elif df.loc[index,'State'] == 'C' and (df.loc[index,'ES'] == 133 or df.loc[index,'ES'] == 129):\n",
    "        df.loc[index,'spec_cap_cor'] = df.loc[prior_idx,'spec_cap_cor']-(df.loc[index,'mAmp-hr'])/active_mass\n",
    "        chr_cycle_no = chr_cycle_no + 1\n",
    "        prior_idx = index\n",
    "    #Charge capacity when either a charge or discharge cycle has been completed.\n",
    "    elif df.loc[index,'State'] == 'C' and (dis_cycle_no != 0 or chr_cycle_no != 0):\n",
    "        df.loc[index,'spec_cap_cor'] = df.loc[prior_idx,'spec_cap_cor']-((df.loc[index,'mAmp-hr'])/active_mass)\n",
    "    #Charge capacity; only used for non-final step of cycle when no charge or discharge has been completed.\n",
    "    elif df.loc[index,'State'] == 'C':\n",
    "        df.loc[index,'spec_cap_cor'] = (df.loc[index,'mAmp-hr'])/active_mass\n",
    "    #When no conditions above are satisfied. Likely to be last-step of data-file.\n",
    "    else:\n",
    "        df.loc[index,'spec_cap_cor'] = df.loc[index-1,'spec_cap_cor']\n",
    "\n",
    "#Create CSV file with two appended columns: uncorrected and corrected capacity\n",
    "df.to_csv(\"output_gs_236_010h.078.csv\")\n",
    "\n",
    "#Plot V vs. corrected capacity\n",
    "plt.plot(df.spec_cap_cor,df.Volts)\n",
    "\n",
    "#Calculate elapsed time.\n",
    "t_tot = time.time()-t_start\n",
    "\n",
    "#Print final statement, indicating code-execution complete. May add percent progress indicators later, idk.\n",
    "print(\"%d discharge cycles\\n%d charge cycles\\n%.3f seconds\" % (dis_cycle_no,chr_cycle_no,t_tot))\n",
    "\n"
   ]
  },
  {
   "cell_type": "code",
   "execution_count": null,
   "metadata": {},
   "outputs": [],
   "source": []
  }
 ],
 "metadata": {
  "kernelspec": {
   "display_name": "Python 3",
   "language": "python",
   "name": "python3"
  },
  "language_info": {
   "codemirror_mode": {
    "name": "ipython",
    "version": 3
   },
   "file_extension": ".py",
   "mimetype": "text/x-python",
   "name": "python",
   "nbconvert_exporter": "python",
   "pygments_lexer": "ipython3",
   "version": "3.7.4"
  }
 },
 "nbformat": 4,
 "nbformat_minor": 2
}
