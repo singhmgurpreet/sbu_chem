{
 "cells": [
  {
   "cell_type": "code",
   "execution_count": 72,
   "metadata": {},
   "outputs": [
    {
     "name": "stdout",
     "output_type": "stream",
     "text": [
      "30 discharge cycles\n",
      "30 charge cycles\n",
      "11.781 seconds\n"
     ]
    }
   ],
   "source": [
    "import numpy as np\n",
    "import pandas as pd\n",
    "import time\n",
    "\n",
    "t_start = time.time()\n",
    "active_mass = [0.00192]\n",
    "\n",
    "df = pd.read_csv('MV20789-1.094_abridged_3.csv',skiprows=1)\n",
    "\n",
    "#uncorrected capacity column\n",
    "for index,row in df.iterrows():\n",
    "    df.loc[index,'spec_cap_unc'] = (df.loc[index,'mAmp-hr'])/active_mass\n",
    "    \n",
    "chr_cycle_no = 0\n",
    "dis_cycle_no = 0\n",
    "prior_idx = 0\n",
    "\n",
    "#corrected capacity columnn\n",
    "for index,row in df.iterrows():\n",
    "    if df.loc[index, 'State'] == 'R' and dis_cycle_no == 0 and chr_cycle_no == 0:\n",
    "        df.loc[index,'spec_cap_cor'] = (df.loc[index,'mAmp-hr'])/active_mass\n",
    "    elif df.loc[index, 'State'] == 'R' and (dis_cycle_no != 0 or chr_cycle_no != 0):\n",
    "        df.loc[index,'spec_cap_cor'] = df.loc[prior_idx,'spec_cap_cor']\n",
    "        prior_idx = index\n",
    "    elif df.loc[index,'State'] == 'D' and df.loc[index,'ES'] == 133:\n",
    "        df.loc[index,'spec_cap_cor'] = (df.loc[index,'mAmp-hr'])/active_mass\n",
    "        dis_cycle_no = dis_cycle_no + 1\n",
    "        prior_idx = index\n",
    "    elif df.loc[index,'State'] == 'D' and (dis_cycle_no != 0 or chr_cycle_no != 0):\n",
    "        df.loc[index,'spec_cap_cor'] = df.loc[prior_idx,'spec_cap_cor']+((df.loc[index,'mAmp-hr'])/active_mass)\n",
    "    elif df.loc[index,'State'] == 'D':\n",
    "        df.loc[index,'spec_cap_cor'] = (df.loc[index,'mAmp-hr'])/active_mass\n",
    "    elif df.loc[index,'State'] == 'C' and df.loc[index,'ES'] == 133:\n",
    "        df.loc[index,'spec_cap_cor'] = (df.loc[index,'mAmp-hr'])/active_mass\n",
    "        chr_cycle_no = chr_cycle_no + 1\n",
    "        prior_idx = index\n",
    "    elif df.loc[index,'State'] == 'C' and (dis_cycle_no != 0 or chr_cycle_no != 0):\n",
    "        df.loc[index,'spec_cap_cor'] = -df.loc[prior_idx,'spec_cap_cor']-((df.loc[index,'mAmp-hr'])/active_mass)\n",
    "    elif df.loc[index,'State'] == 'C':\n",
    "        df.loc[index,'spec_cap_cor'] = (df.loc[index,'mAmp-hr'])/active_mass\n",
    "    else:\n",
    "        df.loc[index,'spec_cap_cor'] = 0\n",
    "\n",
    "df.to_csv(\"output_2.csv\")\n",
    "df\n",
    "t_tot = time.time()-t_start\n",
    "\n",
    "#probably want to change below to charge and discharge cycles\n",
    "print(\"%d discharge cycles\\n%d charge cycles\\n%.3f seconds\" % (dis_cycle_no,chr_cycle_no,t_tot))"
   ]
  },
  {
   "cell_type": "code",
   "execution_count": null,
   "metadata": {},
   "outputs": [],
   "source": []
  }
 ],
 "metadata": {
  "kernelspec": {
   "display_name": "Python 3",
   "language": "python",
   "name": "python3"
  },
  "language_info": {
   "codemirror_mode": {
    "name": "ipython",
    "version": 3
   },
   "file_extension": ".py",
   "mimetype": "text/x-python",
   "name": "python",
   "nbconvert_exporter": "python",
   "pygments_lexer": "ipython3",
   "version": "3.7.6"
  }
 },
 "nbformat": 4,
 "nbformat_minor": 4
}
