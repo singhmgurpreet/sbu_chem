{
 "cells": [
  {
   "cell_type": "markdown",
   "metadata": {},
   "source": [
    "# MAC-AT code using Numpy Arrays"
   ]
  },
  {
   "cell_type": "code",
   "execution_count": 1,
   "metadata": {},
   "outputs": [
    {
     "name": "stdout",
     "output_type": "stream",
     "text": [
      "30 discharge cycles\n",
      "30 charge cycles\n",
      "0.271 seconds\n",
      "r_squared = 0.99976\n",
      "7853\n"
     ]
    },
    {
     "data": {
      "image/png": "[encoded data removed]",
      "text/plain": [
       "<Figure size 432x288 with 1 Axes>"
      ]
     },
     "metadata": {
      "needs_background": "light"
     },
     "output_type": "display_data"
    }
   ],
   "source": [
    "import numpy as np\n",
    "import time\n",
    "import matplotlib.pyplot as plt\n",
    "\n",
    "t_start = time.time()\n",
    "\n",
    "raw_data = np.genfromtxt('MV20789-1.094_floats_reduced.csv',delimiter = ',',dtype = 'float64')\n",
    "\n",
    "active_mass = 0.00192\n",
    "\n",
    "len(raw_data)\n",
    "\n",
    "spec_cap_unc = np.zeros(len(raw_data))\n",
    "\n",
    "#uncorrected capacity column\n",
    "for index in range(len(raw_data)):\n",
    "    spec_cap_unc[index] = raw_data[index,0]/active_mass\n",
    "    \n",
    "spec_cap_unc[300]\n",
    "\n",
    "spec_cap_cor = np.zeros(len(raw_data),dtype='float64')\n",
    "\n",
    "#holds charge/discharge cycle number, and index of last charge/discharge cycle that finished.    \n",
    "chr_cycle_no = 0\n",
    "dis_cycle_no = 0\n",
    "prior_idx = 0\n",
    "\n",
    "#corrected capacity columnn\n",
    "#for loop iterating over all rows\n",
    "for index in range(len(raw_data)):\n",
    "    #Rest state capacity; only applies if no charge/discharge cycle completed yet.\n",
    "    if raw_data[index, 2] == 1.0 and dis_cycle_no == 0 and chr_cycle_no == 0:\n",
    "        spec_cap_cor[index] = (raw_data[index,0])/active_mass\n",
    "    #Rest state capacity when either a charge or discharge cycle has been completed.\n",
    "    elif raw_data[index, 2] == 1.0 and (dis_cycle_no != 0 or chr_cycle_no != 0):\n",
    "        spec_cap_cor[index] = spec_cap_cor[prior_idx]\n",
    "        prior_idx = index\n",
    "    #Discharge capacity at final step.\n",
    "    elif raw_data[index,2] == 2.0 and (raw_data[index,3] == 133.0 or raw_data[index,3] == 129.0):\n",
    "        spec_cap_cor[index] = spec_cap_cor[prior_idx]+((raw_data[index,0])/active_mass)\n",
    "        dis_cycle_no = dis_cycle_no + 1\n",
    "        prior_idx = index\n",
    "    #Discharge capacity when either a charge or discharge cycle has been completed.\n",
    "    elif raw_data[index,2] == 2.0 and (dis_cycle_no != 0 or chr_cycle_no != 0):\n",
    "        spec_cap_cor[index] = spec_cap_cor[prior_idx]+((raw_data[index,0])/active_mass)\n",
    "    #Discharge capacity; only used for non-final step of cycle when no charge or discharge has been completed.\n",
    "    elif raw_data[index,2] == 2.0:\n",
    "        spec_cap_cor[index] = (raw_data[index,0])/active_mass\n",
    "    #Charge capacity at final step.\n",
    "    elif raw_data[index,2] == 3.0 and (raw_data[index,3] == 133.0 or raw_data[index,3] == 129.0):\n",
    "        spec_cap_cor[index] = spec_cap_cor[prior_idx]-(raw_data[index,0])/active_mass\n",
    "        chr_cycle_no = chr_cycle_no + 1\n",
    "        prior_idx = index\n",
    "    #Charge capacity when either a charge or discharge cycle has been completed.\n",
    "    elif raw_data[index,2] == 3.0 and (dis_cycle_no != 0 or chr_cycle_no != 0):\n",
    "        spec_cap_cor[index] = spec_cap_cor[prior_idx]-((raw_data[index,0])/active_mass)\n",
    "    #Charge capacity; only used for non-final step of cycle when no charge or discharge has been completed.\n",
    "    elif raw_data[index,2] == 3.0:\n",
    "        spec_cap_cor[index] = (raw_data[index,0])/active_mass\n",
    "    #When no conditions above are satisfied. Likely to be last-step of data-file.\n",
    "    else:\n",
    "        spec_cap_cor[index] = spec_cap_cor[index-1]\n",
    "        \n",
    "np.savetxt('output_numpy_prot.csv',spec_cap_cor,delimiter = ',')\n",
    "\n",
    "#Plot V vs. corrected capacity\n",
    "plt.plot(spec_cap_cor,raw_data[:,1])\n",
    "\n",
    "#This is all for calculatig r_sq\n",
    "#---------------------------------------------------------------------\n",
    "raw_data_2 = np.array([raw_data[:,4],spec_cap_cor],dtype='float64')\n",
    "\n",
    "length = np.array(raw_data_2.shape)\n",
    "\n",
    "y = np.array(np.vstack((raw_data_2,np.zeros(length[1]),np.zeros(length[1]))),dtype = 'float64')\n",
    "\n",
    "mean = np.mean(y[0,:])\n",
    "\n",
    "for index in range(length[1]):\n",
    "    y[2,index] = (y[0,index]-y[1,index])**2\n",
    "    y[3,index] = (y[2,index]-mean)**2\n",
    "\n",
    "r_sq = ((1) - (np.sum(y[2,:])/np.sum(y[3,:])))\n",
    "\n",
    "#----------------------------------------------------------------------\n",
    "#Calculate elapsed time.\n",
    "t_tot = time.time()-t_start\n",
    "\n",
    "#Print final statement, indicating code-execution complete. May add percent progress indicators later, idk.\n",
    "print(\"%d discharge cycles\\n%d charge cycles\\n%.3f seconds\\nr_squared = %.5f\" % (dis_cycle_no,chr_cycle_no,t_tot,r_sq))\n",
    "\n",
    "print(prior_idx)"
   ]
  },
  {
   "cell_type": "code",
   "execution_count": null,
   "metadata": {},
   "outputs": [],
   "source": []
  }
 ],
 "metadata": {
  "kernelspec": {
   "display_name": "Python 3",
   "language": "python",
   "name": "python3"
  },
  "language_info": {
   "codemirror_mode": {
    "name": "ipython",
    "version": 3
   },
   "file_extension": ".py",
   "mimetype": "text/x-python",
   "name": "python",
   "nbconvert_exporter": "python",
   "pygments_lexer": "ipython3",
   "version": "3.7.6"
  }
 },
 "nbformat": 4,
 "nbformat_minor": 4
}
