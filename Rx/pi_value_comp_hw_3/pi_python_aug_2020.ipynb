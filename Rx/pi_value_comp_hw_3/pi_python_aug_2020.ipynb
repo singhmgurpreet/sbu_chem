{
 "cells": [
  {
   "cell_type": "code",
   "execution_count": null,
   "metadata": {},
   "outputs": [],
   "source": [
    "import numpy as np"
   ]
  },
  {
   "cell_type": "code",
   "execution_count": 32,
   "metadata": {},
   "outputs": [
    {
     "name": "stdout",
     "output_type": "stream",
     "text": [
      "Trajectory: 1, Iter: 100000, pi: 3.143520\n",
      "\n",
      "Trajectory: 1, Iter: 200000, pi: 3.143340\n",
      "\n",
      "Trajectory: 1, Iter: 300000, pi: 3.142093\n",
      "\n",
      "Trajectory: 1, Iter: 400000, pi: 3.142380\n",
      "\n",
      "Trajectory: 1, Iter: 500000, pi: 3.143320\n",
      "\n",
      "Trajectory: 1, Iter: 600000, pi: 3.143373\n",
      "\n",
      "Trajectory: 1, Iter: 700000, pi: 3.141783\n",
      "\n",
      "Trajectory: 1, Iter: 800000, pi: 3.141500\n",
      "\n",
      "Trajectory: 1, Iter: 900000, pi: 3.141053\n",
      "\n"
     ]
    }
   ],
   "source": [
    "iter_no = 1000000\n",
    "rec_no = 10\n",
    "run_no = 10\n",
    "trajectory = np.zeros((rec_no,1))\n",
    "\n",
    "for i in range(1):\n",
    "    in_circle = 0\n",
    "    for j in range(1,iter_no):\n",
    "        x = np.random.rand()\n",
    "        y = np.random.rand()\n",
    "        \n",
    "        r = np.sqrt(x**2 + y**2)\n",
    "        \n",
    "        if r < 1:\n",
    "            in_circle = in_circle+1\n",
    "        \n",
    "        if j % (iter_no/rec_no) == 0:\n",
    "            trajectory[int(j/(iter_no/rec_no)),i] = 4*in_circle/j\n",
    "            print(\"Trajectory: %d, Iter: %.d, pi: %.6f\\n\" % (i+1,j, 4*in_circle/j))"
   ]
  },
  {
   "cell_type": "code",
   "execution_count": null,
   "metadata": {},
   "outputs": [],
   "source": []
  }
 ],
 "metadata": {
  "kernelspec": {
   "display_name": "Python 3",
   "language": "python",
   "name": "python3"
  },
  "language_info": {
   "codemirror_mode": {
    "name": "ipython",
    "version": 3
   },
   "file_extension": ".py",
   "mimetype": "text/x-python",
   "name": "python",
   "nbconvert_exporter": "python",
   "pygments_lexer": "ipython3",
   "version": "3.7.6"
  }
 },
 "nbformat": 4,
 "nbformat_minor": 4
}
